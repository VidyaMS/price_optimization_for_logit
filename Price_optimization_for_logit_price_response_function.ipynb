{
 "cells": [
  {
   "cell_type": "markdown",
   "metadata": {},
   "source": [
    "Price response curve is logit : C* exp-(a +bp) / 1 + exp-(a +bp).  \n",
    "Objective is to find the estimate for the parameters C, a, b.  \n",
    "Subsequent to which we find the optimal price which maximises the profit function."
   ]
  },
  {
   "cell_type": "code",
   "execution_count": 1,
   "metadata": {
    "collapsed": true
   },
   "outputs": [],
   "source": [
    "import numpy as np\n",
    "import pandas as pd \n",
    "import matplotlib.pyplot as plt\n",
    "%matplotlib inline\n",
    "from scipy.optimize import minimize"
   ]
  },
  {
   "cell_type": "code",
   "execution_count": 2,
   "metadata": {
    "collapsed": true
   },
   "outputs": [],
   "source": [
    "## Create a data frame with price and demand \n",
    "\n",
    "price = [14,17,18,19,22]\n",
    "demand = [461, 493, 469, 339, 60]\n",
    "data = pd.DataFrame({\"price\" : price , \"demand\" : demand})"
   ]
  },
  {
   "cell_type": "code",
   "execution_count": 3,
   "metadata": {
    "collapsed": true
   },
   "outputs": [],
   "source": [
    "def cal_demand(x):\n",
    "    \"\"\"\n",
    "    Calculate demand value  where price response function is logit. \n",
    "    \"\"\"\n",
    "    C = x[0]\n",
    "    a = x[1]\n",
    "    b = x[2]\n",
    "    p = x[3]\n",
    "    index = -(a + b*p)\n",
    "    demand = C*(np.exp(index)/(1 + np.exp(index)))\n",
    "    return demand"
   ]
  },
  {
   "cell_type": "code",
   "execution_count": 4,
   "metadata": {
    "collapsed": true
   },
   "outputs": [],
   "source": [
    "def square_error(actual, x):\n",
    "    \"\"\"\n",
    "    Calculate square difference betweehn y_hat and y.\n",
    "    \"\"\"\n",
    "    diff = (actual - cal_demand(x))**2\n",
    "    return diff"
   ]
  },
  {
   "cell_type": "code",
   "execution_count": 5,
   "metadata": {
    "collapsed": true
   },
   "outputs": [],
   "source": [
    "def objective(x):\n",
    "    \"\"\"\n",
    "    For each price value in the data file, calculate the predicted demand value(y_hat) and\n",
    "    find the RMSE.\n",
    "    Objective is to have the least RMSE .\n",
    "    \"\"\"\n",
    "    total_sq_error = 0\n",
    "    \n",
    "    for i in range(data.shape[0]):\n",
    "        x = np.append(x,data.iloc[i]['price'])\n",
    "        actual = data.iloc[i]['demand']\n",
    "        total_sq_error = total_sq_error +  square_error(actual , x)\n",
    "        x = np.delete(x, 3)\n",
    "    \n",
    "    \n",
    "    return np.sqrt(total_sq_error/data.shape[0])"
   ]
  },
  {
   "cell_type": "code",
   "execution_count": 6,
   "metadata": {
    "collapsed": true
   },
   "outputs": [],
   "source": [
    "bounds = ((0,500),(0,np.inf),(-np.inf,np.inf))\n",
    "cons = ({\"type\" : \"ineq\" })\n",
    "## Initial guess for C , a , b\n",
    "C_i = 500\n",
    "a_i = 1\n",
    "b_i = 1\n",
    "x_i = np.array([C_i, a_i , b_i])"
   ]
  },
  {
   "cell_type": "code",
   "execution_count": 7,
   "metadata": {},
   "outputs": [
    {
     "name": "stderr",
     "output_type": "stream",
     "text": [
      "C:\\Users\\Anusha\\Anaconda3\\lib\\site-packages\\scipy\\optimize\\_minimize.py:430: RuntimeWarning: Method Nelder-Mead cannot handle constraints nor bounds.\n",
      "  RuntimeWarning)\n"
     ]
    },
    {
     "name": "stdout",
     "output_type": "stream",
     "text": [
      "Optimization terminated successfully.\n",
      "         Current function value: 24.103528\n",
      "         Iterations: 279\n",
      "         Function evaluations: 499\n"
     ]
    }
   ],
   "source": [
    "soln = minimize(objective, x_i, method = 'Nelder-Mead', bounds = bounds ,  options = {\"disp\":True})\n"
   ]
  },
  {
   "cell_type": "code",
   "execution_count": 8,
   "metadata": {
    "collapsed": true
   },
   "outputs": [],
   "source": [
    "parameters = soln.x\n",
    "min_rmse = soln.fun"
   ]
  },
  {
   "cell_type": "code",
   "execution_count": 10,
   "metadata": {},
   "outputs": [
    {
     "name": "stdout",
     "output_type": "stream",
     "text": [
      "\n",
      " C : 490.6166189301976\n",
      "a -22.30928334849426\n",
      "b :1.119135822492614\n",
      "\n",
      " RMSE :24.10352840956486\n"
     ]
    }
   ],
   "source": [
    "print(\"\\n C : {}\".format(parameters[0]))\n",
    "print(\"a {}\".format(parameters[1]))\n",
    "print(\"b :{}\".format(parameters[2]))\n",
    "print(\"\\n RMSE :{}\".format(min_rmse))\n"
   ]
  },
  {
   "cell_type": "markdown",
   "metadata": {},
   "source": [
    "Note : Excercise done with Excel too gave the same values as above."
   ]
  },
  {
   "cell_type": "code",
   "execution_count": 11,
   "metadata": {
    "collapsed": true
   },
   "outputs": [],
   "source": [
    "## Print the actual and predicted \n",
    "def predict(x):\n",
    "    predicted = []\n",
    "    for i in range(data.shape[0]):\n",
    "        x = np.append(x,data.iloc[i]['price'])\n",
    "        predicted.append(cal_demand(x))\n",
    "        x = np.delete(x,3)\n",
    "    return predicted"
   ]
  },
  {
   "cell_type": "code",
   "execution_count": 12,
   "metadata": {},
   "outputs": [
    {
     "data": {
      "image/png": "[encoded data removed]",
      "text/plain": [
       "<Figure size 432x288 with 1 Axes>"
      ]
     },
     "metadata": {},
     "output_type": "display_data"
    }
   ],
   "source": [
    "predicted = predict(parameters)\n",
    "plt.plot(data['price'], data['demand'], '-o', label = 'actual')\n",
    "plt.plot(data['price'], predicted ,'-o', label = 'predicted')\n",
    "plt.title(\"Actual and Predicted values\")\n",
    "plt.xlabel(\"Price\")\n",
    "plt.ylabel(\"Demand\")\n",
    "plt.legend()\n",
    "plt.show()"
   ]
  },
  {
   "cell_type": "markdown",
   "metadata": {
    "collapsed": true
   },
   "source": [
    "Optimize the profit function with the estimated parameters C, a, b for the logit price response function and find the optimal price.  \n",
    "Let the cost be 5.   \n",
    "Maximise (p-c)d(p) to get the optimal price "
   ]
  },
  {
   "cell_type": "code",
   "execution_count": 13,
   "metadata": {
    "collapsed": true
   },
   "outputs": [],
   "source": [
    "def cal_profit(p):\n",
    "    c = 5\n",
    "    C = parameters[0]\n",
    "    a = parameters[1]\n",
    "    b = parameters[2]\n",
    "    index = -(a + b*p)\n",
    "    d_p = C*(np.exp(index)/(1 + np.exp(index)))\n",
    "    profit = (p-c)*d_p\n",
    "    return profit\n",
    "    "
   ]
  },
  {
   "cell_type": "code",
   "execution_count": 14,
   "metadata": {},
   "outputs": [
    {
     "name": "stdout",
     "output_type": "stream",
     "text": [
      "Optimization terminated successfully.    (Exit mode 0)\n",
      "            Current function value: -5759.5910368845\n",
      "            Iterations: 7\n",
      "            Function evaluations: 33\n",
      "            Gradient evaluations: 7\n"
     ]
    }
   ],
   "source": [
    "bounds = ((0,np.inf))\n",
    "cons = ({\"type\" : \"ineq\" })\n",
    "## Initial guess for p\n",
    "p_i = np.array([10])\n",
    "#\n",
    "def objective(p):\n",
    "    return - cal_profit(p)\n",
    "#\n",
    "soln = minimize(objective, p_i, method = 'SLSQP' ,  options = {\"disp\":True})"
   ]
  },
  {
   "cell_type": "code",
   "execution_count": 15,
   "metadata": {
    "collapsed": true
   },
   "outputs": [],
   "source": [
    "opt_price = np.round(soln.x,decimals = 2)\n",
    "max_profit = soln.fun"
   ]
  },
  {
   "cell_type": "code",
   "execution_count": 16,
   "metadata": {},
   "outputs": [
    {
     "name": "stdout",
     "output_type": "stream",
     "text": [
      "\n",
      " optimal price :17.63\n",
      "Max profit :5759.5910368845\n"
     ]
    }
   ],
   "source": [
    "print(\"\\n optimal price :{}\".format(opt_price[0]))\n",
    "print(\"Max profit :{}\".format(-max_profit))"
   ]
  },
  {
   "cell_type": "code",
   "execution_count": 17,
   "metadata": {},
   "outputs": [
    {
     "name": "stdout",
     "output_type": "stream",
     "text": [
      "Demand at opt price: 456.02\n"
     ]
    }
   ],
   "source": [
    "## Demand at optimal price :\n",
    "C = parameters[0]\n",
    "a = parameters[1]\n",
    "b = parameters[2]\n",
    "index = -(a + b*opt_price[0])\n",
    "demand_opt = np.round(C*(np.exp(index)/(1 + np.exp(index))),2)\n",
    "print(\"Demand at opt price: {}\".format(demand_opt))"
   ]
  },
  {
   "cell_type": "code",
   "execution_count": 19,
   "metadata": {},
   "outputs": [
    {
     "name": "stdout",
     "output_type": "stream",
     "text": [
      "Elasticity at opt price : 1.4\n"
     ]
    }
   ],
   "source": [
    "## Elasticity \n",
    "c= 5\n",
    "elasticity = (opt_price[0]) / ( opt_price[0] -c)\n",
    "print(\"Elasticity at opt price : {}\".format(np.round(elasticity,2)))"
   ]
  },
  {
   "cell_type": "code",
   "execution_count": null,
   "metadata": {
    "collapsed": true
   },
   "outputs": [],
   "source": []
  }
 ],
 "metadata": {
  "kernelspec": {
   "display_name": "Python 3",
   "language": "python",
   "name": "python3"
  },
  "language_info": {
   "codemirror_mode": {
    "name": "ipython",
    "version": 3
   },
   "file_extension": ".py",
   "mimetype": "text/x-python",
   "name": "python",
   "nbconvert_exporter": "python",
   "pygments_lexer": "ipython3",
   "version": "3.6.3"
  }
 },
 "nbformat": 4,
 "nbformat_minor": 2
}
